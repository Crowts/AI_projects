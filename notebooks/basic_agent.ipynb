{
 "cells": [
  {
   "cell_type": "code",
   "execution_count": null,
   "metadata": {},
   "outputs": [],
   "source": [
    "## Test API"
   ]
  },
  {
   "cell_type": "code",
   "execution_count": null,
   "metadata": {},
   "outputs": [
    {
     "name": "stdout",
     "output_type": "stream",
     "text": [
      "ChatCompletionMessage(content='Lines of code entwined,  \\nThoughts of metal, light, and dreams—  \\nA spark of our minds.', refusal=None, role='assistant', audio=None, function_call=None, tool_calls=None, annotations=[])\n"
     ]
    }
   ],
   "source": [
    "import os\n",
    "from utils import get_openai_api_key\n",
    "from openai import OpenAI\n",
    "\n",
    "openai_api_key = get_openai_api_key()\n",
    "\n",
    "client = OpenAI(\n",
    "  api_key=openai_api_key\n",
    ")\n",
    "\n",
    "completion = client.chat.completions.create(\n",
    "  model=\"gpt-4o-mini\",\n",
    "  store=True,\n",
    "  messages=[\n",
    "    {\"role\": \"user\", \n",
    "     \"content\": \"write a haiku about ai\"\n",
    "    }\n",
    "  ]\n",
    ")\n",
    "\n",
    "print(completion.choices[0].message);\n"
   ]
  },
  {
   "cell_type": "code",
   "execution_count": null,
   "metadata": {},
   "outputs": [],
   "source": [
    "# Local model\n",
    "from langchain_ollama import ChatOllama\n",
    "\n",
    "\n",
    "local_llm = \"qwen2.5:7b\"\n",
    "Model = ChatOllama(model=local_llm, temperature=0.0)"
   ]
  },
  {
   "cell_type": "code",
   "execution_count": null,
   "metadata": {},
   "outputs": [],
   "source": [
    "from dotenv import load_dotenv, find_dotenv\n",
    "\n",
    "_ = load_dotenv(find_dotenv()) \n",
    "OPENAI_API_KEY = os.getenv(\"OPENAI_API_KEY\")\n",
    "SERPER_API_KEY = os.environ[\"SERPER_API_KEY\"]\n",
    "\n",
    "LANGSMITH_TRACING = os.environ[\"LANGSMITH_TRACING\"]\n",
    "LANGSMITH_ENDPOINT = os.environ[\"LANGSMITH_ENDPOINT\"]\n",
    "LANGSMITH_API_KEY = os.environ[\"LANGSMITH_API_KEY\"]\n",
    "LANGSMITH_PROJECT = os.environ[\"LANGSMITH_PROJECT\"]\n"
   ]
  },
  {
   "cell_type": "code",
   "execution_count": null,
   "metadata": {},
   "outputs": [],
   "source": [
    "from langchain_openai import ChatOpenAI\n",
    "from langchain_community.utilities import GoogleSerperAPIWrapper\n",
    "from langgraph_supervisor import create_supervisor\n",
    "from langgraph.prebuilt import create_react_agent\n",
    "\n",
    "model = ChatOpenAI(model=\"gpt-4o-mini\")\n",
    "\n",
    "# Create specialized agents\n",
    "\n",
    "def add(a: float, b: float) -> float:\n",
    "    \"\"\"Add two numbers.\"\"\"\n",
    "    return a + b\n",
    "\n",
    "def multiply(a: float, b: float) -> float:\n",
    "    \"\"\"Multiply two numbers.\"\"\"\n",
    "    return a * b\n",
    "\n",
    "def web_search(query: str) -> str:\n",
    "    \"\"\"Searches the web for information given a query using Google Serper API Wrapper.\n",
    "\n",
    "    Args:\n",
    "    ---------------\n",
    "        query: A string\n",
    "\n",
    "    Returns:\n",
    "    ---------------\n",
    "        Text output in string format.\n",
    "    \"\"\"\n",
    "    search = GoogleSerperAPIWrapper() # uses os.environ[\"SERPER_API_KEY\"]\n",
    "    try:\n",
    "        results = search.run(query)\n",
    "        return results\n",
    "    except Exception as e:\n",
    "        return f\"Error during web search: {e}\""
   ]
  },
  {
   "cell_type": "code",
   "execution_count": 30,
   "metadata": {},
   "outputs": [],
   "source": [
    "math_agent = create_react_agent(\n",
    "    model=Model,\n",
    "    tools=[add, multiply],\n",
    "    name=\"math_expert\",\n",
    "    prompt=\"You are a math expert. Always use one tool at a time.\"\n",
    ")\n",
    "\n",
    "research_agent = create_react_agent(\n",
    "    model=Model,\n",
    "    tools=[web_search],\n",
    "    name=\"research_expert\",\n",
    "    prompt=\"You are a world class researcher with access to web search. Do not do any math.\"\n",
    ")\n",
    "\n"
   ]
  },
  {
   "cell_type": "code",
   "execution_count": 46,
   "metadata": {},
   "outputs": [],
   "source": [
    "workflow = create_supervisor(\n",
    "    [research_agent, math_agent],\n",
    "    model=Model,\n",
    "    prompt=(\n",
    "        \"You are a team supervisor managing a research expert and a math expert. \"\n",
    "        \"For current events, use research_agent. \"\n",
    "        \"For math problems, use math_agent.\"\n",
    "    )\n",
    ")\n",
    "\n",
    "# Compile and run\n",
    "app = workflow.compile()\n",
    "result = app.invoke({\n",
    "    \"messages\": [\n",
    "        {\n",
    "            \"role\": \"user\",\n",
    "            \"content\": \"what's the combined headcount of the FAANG companies in 2024?\"\n",
    "        }\n",
    "    ]\n",
    "})"
   ]
  },
  {
   "cell_type": "code",
   "execution_count": 14,
   "metadata": {},
   "outputs": [
    {
     "data": {
      "image/png": "[encoded data removed]",
      "text/plain": [
       "<IPython.core.display.Image object>"
      ]
     },
     "metadata": {},
     "output_type": "display_data"
    }
   ],
   "source": [
    "from IPython.display import Image, display\n",
    "display(Image(app.get_graph().draw_mermaid_png()))"
   ]
  },
  {
   "cell_type": "code",
   "execution_count": 40,
   "metadata": {},
   "outputs": [
    {
     "name": "stdout",
     "output_type": "stream",
     "text": [
      "================================\u001b[1m Human Message \u001b[0m=================================\n",
      "\n",
      "what's the combined headcount of the FAANG companies in 2024?\n",
      "==================================\u001b[1m Ai Message \u001b[0m==================================\n",
      "Name: supervisor\n",
      "Tool Calls:\n",
      "  transfer_to_research_expert (b6adde55-a96e-44c9-9ce2-f2c9b7d3d616)\n",
      " Call ID: b6adde55-a96e-44c9-9ce2-f2c9b7d3d616\n",
      "  Args:\n",
      "=================================\u001b[1m Tool Message \u001b[0m=================================\n",
      "Name: transfer_to_research_expert\n",
      "\n",
      "Successfully transferred to research_expert\n",
      "==================================\u001b[1m Ai Message \u001b[0m==================================\n",
      "Name: research_expert\n",
      "\n",
      "The information provided does not directly give the combined headcount of the FAANG companies for 2024, but we can infer some details:\n",
      "\n",
      "1. **Meta (formerly Facebook)** - Has been ramping up hiring in 2024 and is noted to be hiring significantly more engineers than other companies.\n",
      "2. **Apple** - No specific headcount information provided.\n",
      "3. **Amazon** - No specific headcount information provided.\n",
      "4. **Netflix** - No specific headcount information provided.\n",
      "5. **Alphabet (formerly Google)** - No specific headcount information provided.\n",
      "\n",
      "The text mentions that the net headcount across all companies on Carta increased by 24,450 people during the first nine months of 2024, but this is a general increase and not specifically for FAANG companies. \n",
      "\n",
      "Given the lack of direct data, we would need to look up specific reports or official statements from these companies to get accurate headcount numbers for 2024.\n",
      "\n",
      "Would you like me to perform another search to find more detailed information?\n",
      "==================================\u001b[1m Ai Message \u001b[0m==================================\n",
      "Name: research_expert\n",
      "\n",
      "Transferring back to supervisor\n",
      "Tool Calls:\n",
      "  transfer_back_to_supervisor (4c1ca587-0f74-46dd-88d1-c07c3dbebcdb)\n",
      " Call ID: 4c1ca587-0f74-46dd-88d1-c07c3dbebcdb\n",
      "  Args:\n",
      "=================================\u001b[1m Tool Message \u001b[0m=================================\n",
      "Name: transfer_back_to_supervisor\n",
      "\n",
      "Successfully transferred back to supervisor\n",
      "==================================\u001b[1m Ai Message \u001b[0m==================================\n",
      "Name: supervisor\n",
      "Tool Calls:\n",
      "  transfer_to_research_expert (79a90b96-15fe-470e-8744-0dcc5fee3900)\n",
      " Call ID: 79a90b96-15fe-470e-8744-0dcc5fee3900\n",
      "  Args:\n",
      "=================================\u001b[1m Tool Message \u001b[0m=================================\n",
      "Name: transfer_to_research_expert\n",
      "\n",
      "Successfully transferred to research_expert\n",
      "==================================\u001b[1m Ai Message \u001b[0m==================================\n",
      "Name: research_expert\n",
      "\n",
      "Based on the information available from web searches, there is no specific combined headcount figure for the FAANG companies as of 2024. However, we can gather some relevant details:\n",
      "\n",
      "1. **Net Headcount Increase**: The net headcount across all companies on Carta increased by 24,450 people during the first nine months of 2024, which equates to a roughly 2% increase.\n",
      "\n",
      "2. **Hiring Trends**: August 2024 saw 26,024 employees laid off, and it's noted that \"2024 isn't letting up\" with continued layoffs in the tech sector.\n",
      "\n",
      "3. **FAANG Companies**: These are Meta (formerly Facebook), Apple, Amazon, Netflix, and Alphabet (formerly Google). Each company has been hiring more people as of 2024, but specific headcount numbers for each company are not provided.\n",
      "\n",
      "Given these points, while we don't have a precise combined headcount figure for the FAANG companies in 2024, it's clear that there is an overall increase in tech sector employment and that hiring trends are positive for these leading tech firms. \n",
      "\n",
      "Would you like me to look into more specific data or reports from these companies?\n",
      "==================================\u001b[1m Ai Message \u001b[0m==================================\n",
      "Name: research_expert\n",
      "\n",
      "Transferring back to supervisor\n",
      "Tool Calls:\n",
      "  transfer_back_to_supervisor (89b89381-33d4-41b4-ab44-1c1a82e09a85)\n",
      " Call ID: 89b89381-33d4-41b4-ab44-1c1a82e09a85\n",
      "  Args:\n",
      "=================================\u001b[1m Tool Message \u001b[0m=================================\n",
      "Name: transfer_back_to_supervisor\n",
      "\n",
      "Successfully transferred back to supervisor\n",
      "==================================\u001b[1m Ai Message \u001b[0m==================================\n",
      "Name: supervisor\n",
      "\n",
      "Based on the information available, there isn't a precise combined headcount figure for the FAANG companies specifically for 2024. However, we can summarize the key points:\n",
      "\n",
      "1. **Net Headcount Increase**: The net headcount across all companies on Carta increased by 24,450 people during the first nine months of 2024.\n",
      "2. **Hiring Trends**: There have been significant hiring trends in the tech sector, with Meta (formerly Facebook) and other FAANG companies continuing to expand their workforce.\n",
      "\n",
      "For more detailed and specific headcount numbers for each company, we would need to refer to official reports or press releases from these companies.\n",
      "\n",
      "Would you like me to look into obtaining more detailed data from the respective companies?\n"
     ]
    }
   ],
   "source": [
    "for m in result[\"messages\"]:\n",
    "    m.pretty_print()"
   ]
  },
  {
   "cell_type": "code",
   "execution_count": null,
   "metadata": {},
   "outputs": [],
   "source": []
  }
 ],
 "metadata": {
  "kernelspec": {
   "display_name": "agentic_env",
   "language": "python",
   "name": "python3"
  },
  "language_info": {
   "codemirror_mode": {
    "name": "ipython",
    "version": 3
   },
   "file_extension": ".py",
   "mimetype": "text/x-python",
   "name": "python",
   "nbconvert_exporter": "python",
   "pygments_lexer": "ipython3",
   "version": "3.12.4"
  }
 },
 "nbformat": 4,
 "nbformat_minor": 2
}
